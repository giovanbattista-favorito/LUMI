{
 "cells": [
  {
   "cell_type": "code",
   "execution_count": 1,
   "metadata": {},
   "outputs": [
    {
     "data": {
      "text/html": [
       "<div>\n",
       "<style scoped>\n",
       "    .dataframe tbody tr th:only-of-type {\n",
       "        vertical-align: middle;\n",
       "    }\n",
       "\n",
       "    .dataframe tbody tr th {\n",
       "        vertical-align: top;\n",
       "    }\n",
       "\n",
       "    .dataframe thead th {\n",
       "        text-align: right;\n",
       "    }\n",
       "</style>\n",
       "<table border=\"1\" class=\"dataframe\">\n",
       "  <thead>\n",
       "    <tr style=\"text-align: right;\">\n",
       "      <th></th>\n",
       "      <th>Stage(microm)</th>\n",
       "      <th>X</th>\n",
       "      <th>Y</th>\n",
       "    </tr>\n",
       "  </thead>\n",
       "  <tbody>\n",
       "    <tr>\n",
       "      <th>0</th>\n",
       "      <td>0</td>\n",
       "      <td>-0.008933</td>\n",
       "      <td>0.851707</td>\n",
       "    </tr>\n",
       "    <tr>\n",
       "      <th>1</th>\n",
       "      <td>50</td>\n",
       "      <td>-0.008969</td>\n",
       "      <td>0.850831</td>\n",
       "    </tr>\n",
       "    <tr>\n",
       "      <th>2</th>\n",
       "      <td>100</td>\n",
       "      <td>-0.010048</td>\n",
       "      <td>0.851943</td>\n",
       "    </tr>\n",
       "    <tr>\n",
       "      <th>3</th>\n",
       "      <td>150</td>\n",
       "      <td>-0.009721</td>\n",
       "      <td>0.853375</td>\n",
       "    </tr>\n",
       "    <tr>\n",
       "      <th>4</th>\n",
       "      <td>200</td>\n",
       "      <td>-0.009515</td>\n",
       "      <td>0.852437</td>\n",
       "    </tr>\n",
       "    <tr>\n",
       "      <th>...</th>\n",
       "      <td>...</td>\n",
       "      <td>...</td>\n",
       "      <td>...</td>\n",
       "    </tr>\n",
       "    <tr>\n",
       "      <th>59</th>\n",
       "      <td>5600</td>\n",
       "      <td>-0.036987</td>\n",
       "      <td>-0.857383</td>\n",
       "    </tr>\n",
       "    <tr>\n",
       "      <th>60</th>\n",
       "      <td>5700</td>\n",
       "      <td>-0.037412</td>\n",
       "      <td>-0.855346</td>\n",
       "    </tr>\n",
       "    <tr>\n",
       "      <th>61</th>\n",
       "      <td>5800</td>\n",
       "      <td>-0.038095</td>\n",
       "      <td>-0.855800</td>\n",
       "    </tr>\n",
       "    <tr>\n",
       "      <th>62</th>\n",
       "      <td>5900</td>\n",
       "      <td>-0.039724</td>\n",
       "      <td>-0.857051</td>\n",
       "    </tr>\n",
       "    <tr>\n",
       "      <th>63</th>\n",
       "      <td>6000</td>\n",
       "      <td>-0.040358</td>\n",
       "      <td>-0.855743</td>\n",
       "    </tr>\n",
       "  </tbody>\n",
       "</table>\n",
       "<p>64 rows × 3 columns</p>\n",
       "</div>"
      ],
      "text/plain": [
       "    Stage(microm)         X         Y\n",
       "0               0 -0.008933  0.851707\n",
       "1              50 -0.008969  0.850831\n",
       "2             100 -0.010048  0.851943\n",
       "3             150 -0.009721  0.853375\n",
       "4             200 -0.009515  0.852437\n",
       "..            ...       ...       ...\n",
       "59           5600 -0.036987 -0.857383\n",
       "60           5700 -0.037412 -0.855346\n",
       "61           5800 -0.038095 -0.855800\n",
       "62           5900 -0.039724 -0.857051\n",
       "63           6000 -0.040358 -0.855743\n",
       "\n",
       "[64 rows x 3 columns]"
      ]
     },
     "metadata": {},
     "output_type": "display_data"
    }
   ],
   "source": [
    "import numpy as np\n",
    "import pandas as pd\n",
    "import matplotlib.pyplot as plt\n",
    "\n",
    "df = pd.read_csv(\"4QD_first_alignment.csv\")\n",
    "display(df)"
   ]
  },
  {
   "cell_type": "markdown",
   "metadata": {},
   "source": [
    "Diameter of laser beam: 2.03 mm circa"
   ]
  },
  {
   "cell_type": "code",
   "execution_count": 2,
   "metadata": {},
   "outputs": [
    {
     "data": {
      "text/plain": [
       "(array([   0,   50,  100,  150,  200,  250,  300,  400,  500,  600,  700,\n",
       "         800,  900, 1000, 1100, 1200, 1300, 1400, 1500, 1600, 1700, 1800,\n",
       "        1900, 2000, 2100, 2200, 2300, 2400, 2500, 2600, 2700, 2800, 2900,\n",
       "        3000, 3100, 3200, 3300, 3400, 3500, 3600, 3700, 3800, 3900, 4000,\n",
       "        4100, 4200, 4300, 4400, 4500, 4600, 4700, 4800, 4900, 5000, 5100,\n",
       "        5200, 5300, 5400, 5500, 5600, 5700, 5800, 5900, 6000]),\n",
       " array([-0.0089333 , -0.008969  , -0.01004762, -0.00972143, -0.00951548,\n",
       "        -0.00981905, -0.01025952, -0.01056667, -0.01116786, -0.00972381,\n",
       "        -0.01048929, -0.00984167, -0.00947976, -0.01050833, -0.01109286,\n",
       "        -0.01118571, -0.01191786, -0.01205   , -0.01249762, -0.01279524,\n",
       "        -0.01244524, -0.01321309, -0.01334881, -0.01286667, -0.01330357,\n",
       "        -0.01347262, -0.01546429, -0.02031786, -0.0214381 , -0.02422976,\n",
       "        -0.02474524, -0.02487857, -0.02528333, -0.025675  , -0.02535119,\n",
       "        -0.02620714, -0.02854405, -0.03030476, -0.03145357, -0.03119048,\n",
       "        -0.03259048, -0.03138095, -0.03245119, -0.03350952, -0.03512976,\n",
       "        -0.03588452, -0.03716548, -0.03779167, -0.03790357, -0.03758333,\n",
       "        -0.038225  , -0.03833571, -0.03861786, -0.038525  , -0.03971667,\n",
       "        -0.03848214, -0.03816905, -0.03841429, -0.03719286, -0.03698691,\n",
       "        -0.03741191, -0.03809524, -0.03972381, -0.04035833]),\n",
       " array([ 0.851707  ,  0.85083095,  0.85194286,  0.853375  ,  0.85243691,\n",
       "         0.85114286,  0.85030119,  0.85077738,  0.85136667,  0.84961667,\n",
       "         0.85071667,  0.85055   ,  0.848     ,  0.85031309,  0.85046548,\n",
       "         0.84851786,  0.84720119,  0.84457381,  0.8416369 ,  0.83718333,\n",
       "         0.82894167,  0.82369524,  0.81326071,  0.78726071,  0.75458571,\n",
       "         0.70378095,  0.62276548,  0.52360238,  0.4018381 ,  0.26062381,\n",
       "         0.13999405,  0.02106071, -0.05671667, -0.21660357, -0.37089167,\n",
       "        -0.49936905, -0.60687857, -0.68666429, -0.73749167, -0.77507857,\n",
       "        -0.80026429, -0.81193095, -0.82791786, -0.83284881, -0.83743095,\n",
       "        -0.84124762, -0.84238095, -0.84578214, -0.84801309, -0.85120357,\n",
       "        -0.85223929, -0.85162381, -0.85388095, -0.85183095, -0.85499048,\n",
       "        -0.855475  , -0.85531429, -0.85481905, -0.85447262, -0.85738333,\n",
       "        -0.85534643, -0.8558    , -0.85705119, -0.85574286]))"
      ]
     },
     "execution_count": 2,
     "metadata": {},
     "output_type": "execute_result"
    }
   ],
   "source": [
    "stage = np.array(df['Stage(microm)'])\n",
    "x = np.array(df['X'])\n",
    "y = np.array(df['Y'])\n",
    "\n",
    "stage, x, y"
   ]
  },
  {
   "cell_type": "code",
   "execution_count": 3,
   "metadata": {},
   "outputs": [
    {
     "data": {
      "text/plain": [
       "Text(0, 0.5, 'Y axis')"
      ]
     },
     "execution_count": 3,
     "metadata": {},
     "output_type": "execute_result"
    },
    {
     "data": {
      "image/png": "[encoded data removed]",
      "text/plain": [
       "<Figure size 432x288 with 1 Axes>"
      ]
     },
     "metadata": {
      "needs_background": "light"
     },
     "output_type": "display_data"
    }
   ],
   "source": [
    "plt.grid()\n",
    "plt.title(\"Y vs stage (<x> = {})\".format(np.mean(x)))\n",
    "plt.plot(stage, y, 'o-')\n",
    "plt.xlabel(\"Stage (micron)\")\n",
    "plt.ylabel(\"Y axis\")"
   ]
  },
  {
   "cell_type": "code",
   "execution_count": 4,
   "metadata": {},
   "outputs": [
    {
     "data": {
      "text/plain": [
       "(2200.0, 3400.0)"
      ]
     },
     "execution_count": 4,
     "metadata": {},
     "output_type": "execute_result"
    },
    {
     "data": {
      "image/png": "[encoded data removed]",
      "text/plain": [
       "<Figure size 432x288 with 1 Axes>"
      ]
     },
     "metadata": {
      "needs_background": "light"
     },
     "output_type": "display_data"
    }
   ],
   "source": [
    "plt.grid()\n",
    "plt.title(\"Y vs stage (<x> = {})\".format(np.mean(x)))\n",
    "plt.plot(stage, y, 'o-')\n",
    "plt.xlabel(\"Stage (micron)\")\n",
    "plt.ylabel(\"Y axis\")\n",
    "plt.xlim(2200, 3400)"
   ]
  },
  {
   "cell_type": "code",
   "execution_count": 5,
   "metadata": {},
   "outputs": [
    {
     "data": {
      "text/plain": [
       "array([-0.0011587])"
      ]
     },
     "execution_count": 5,
     "metadata": {},
     "output_type": "execute_result"
    }
   ],
   "source": [
    "(y[stage == 3400] - y[stage == 2200])/(3400 - 2200)"
   ]
  },
  {
   "cell_type": "code",
   "execution_count": 6,
   "metadata": {},
   "outputs": [
    {
     "data": {
      "text/plain": [
       "Text(0, 0.5, 'X axis')"
      ]
     },
     "execution_count": 6,
     "metadata": {},
     "output_type": "execute_result"
    },
    {
     "data": {
      "image/png": "[encoded data removed]",
      "text/plain": [
       "<Figure size 432x288 with 1 Axes>"
      ]
     },
     "metadata": {
      "needs_background": "light"
     },
     "output_type": "display_data"
    }
   ],
   "source": [
    "plt.grid()\n",
    "plt.title(\"X vs stage (<x> = {})\".format(np.mean(x)))\n",
    "plt.plot(stage, x, 'o-')\n",
    "plt.xlabel(\"Stage (micron)\")\n",
    "plt.ylabel(\"X axis\")"
   ]
  },
  {
   "cell_type": "code",
   "execution_count": null,
   "metadata": {},
   "outputs": [],
   "source": []
  },
  {
   "cell_type": "markdown",
   "metadata": {},
   "source": [
    "## LINEAR FIT\n",
    "To get the ratio between volts and millimiters we consider only the region [2200-3400] $\\mu$m; there we see how many volts correspond to a shift of the stage of 10 $\\mu$m, then 20 $\\mu$m and so on to realize a fit."
   ]
  },
  {
   "cell_type": "code",
   "execution_count": 7,
   "metadata": {},
   "outputs": [
    {
     "data": {
      "text/plain": [
       "array([-0.00878214, -0.01561071, -0.01757024, -0.03289524, -0.0465119 ,\n",
       "       -0.05930476, -0.08544405, -0.10857976, -0.12011548, -0.11939762,\n",
       "       -0.08688929, -0.17525952, -0.20214643, -0.17306429])"
      ]
     },
     "execution_count": 7,
     "metadata": {},
     "output_type": "execute_result"
    }
   ],
   "source": [
    "#Starting from 2200 mum\n",
    "\n",
    "delta_x = np.array([10, 20, 30, 40, 50, 60, 70, 80, 90, 100, 110, 120, 130, 140])\n",
    "\n",
    "voltage_extremes = np.array([[0.7011011904761906, 0.6923190476190472], [0.6923190476190472, 0.6767083333333328], [0.6767083333333328, 0.6591380952380954], [0.6591380952380954, 0.6262428571428571], [0.6262428571428571, 0.5797309523809532], [0.5797309523809532, 0.5204261904761902], [0.5204261904761902, 0.43498214285714276], [0.43498214285714276, 0.3264023809523809], [0.3264023809523809, 0.20628690476190487], [0.20628690476190487, 0.08688928571428566], [0.08688928571428566, 0.0], [0.0, -0.17525952380952375], [-0.17525952380952375, -0.3774059523809523], [-0.3774059523809523, -0.5504702380952378]])\n",
    "voltage_extremes[:, 1] - voltage_extremes[:, 0]"
   ]
  },
  {
   "cell_type": "code",
   "execution_count": 8,
   "metadata": {},
   "outputs": [
    {
     "data": {
      "text/plain": [
       "Text(0, 0.5, 'delta v')"
      ]
     },
     "execution_count": 8,
     "metadata": {},
     "output_type": "execute_result"
    },
    {
     "data": {
      "image/png": "[encoded data removed]",
      "text/plain": [
       "<Figure size 432x288 with 1 Axes>"
      ]
     },
     "metadata": {
      "needs_background": "light"
     },
     "output_type": "display_data"
    }
   ],
   "source": [
    "delta_v = voltage_extremes[:, 1] - voltage_extremes[:, 0]\n",
    "\n",
    "plt.grid()\n",
    "plt.title(\"Linear Fit\")\n",
    "plt.plot(delta_x, delta_v, 'o')\n",
    "plt.xlabel(\"delta x\")\n",
    "plt.ylabel(\"delta v\")"
   ]
  },
  {
   "cell_type": "markdown",
   "metadata": {},
   "source": [
    "Round 2"
   ]
  },
  {
   "cell_type": "code",
   "execution_count": 9,
   "metadata": {},
   "outputs": [
    {
     "data": {
      "text/plain": [
       "array([-0.00908214, -0.0115    , -0.02572857, -0.03542024, -0.04127143,\n",
       "       -0.06469762, -0.08838452, -0.11847143, -0.11947381, -0.11925952,\n",
       "       -0.08889286, -0.18085595, -0.20951905, -0.17521071])"
      ]
     },
     "execution_count": 9,
     "metadata": {},
     "output_type": "execute_result"
    }
   ],
   "source": [
    "#Starting from 2200 mum\n",
    "\n",
    "delta_x = np.array([10, 20, 30, 40, 50, 60, 70, 80, 90, 100, 110, 120, 130, 140])\n",
    "\n",
    "voltage_extremes2 = np.array([[0.720572619047619, 0.711490476190477], [0.7120761904761915, 0.7005761904761918], [0.7000214285714299, 0.6742928571428569], [0.6740964285714283, 0.6386761904761906], [0.6378619047619051, 0.5965904761904764], [0.5974190476190478, 0.5327214285714279], [0.532219047619047, 0.4438345238095242], [0.44413571428571463, 0.32566428571428585], [0.32765000000000033, 0.20817619047619054], [0.2081095238095239, 0.08885000000000008], [0.08889285714285726, 0.0], [0.0, -0.1808559523809526], [-0.17951428571428585, -0.3890333333333335], [-0.38790000000000024, -0.5631107142857145]])\n",
    "voltage_extremes2[:, 1] - voltage_extremes2[:, 0]"
   ]
  },
  {
   "cell_type": "code",
   "execution_count": 10,
   "metadata": {},
   "outputs": [
    {
     "data": {
      "text/plain": [
       "Text(0, 0.5, 'delta v')"
      ]
     },
     "execution_count": 10,
     "metadata": {},
     "output_type": "execute_result"
    },
    {
     "data": {
      "image/png": "[encoded data removed]",
      "text/plain": [
       "<Figure size 432x288 with 1 Axes>"
      ]
     },
     "metadata": {
      "needs_background": "light"
     },
     "output_type": "display_data"
    }
   ],
   "source": [
    "delta_v2 = voltage_extremes2[:, 1] - voltage_extremes2[:, 0]\n",
    "\n",
    "plt.grid()\n",
    "plt.title(\"Linear Fit\")\n",
    "plt.plot(delta_x, delta_v2, 'o')\n",
    "plt.xlabel(\"delta x\")\n",
    "plt.ylabel(\"delta v\")"
   ]
  },
  {
   "cell_type": "code",
   "execution_count": 11,
   "metadata": {},
   "outputs": [
    {
     "data": {
      "text/plain": [
       "1050"
      ]
     },
     "execution_count": 11,
     "metadata": {},
     "output_type": "execute_result"
    }
   ],
   "source": [
    "np.sum(delta_x)"
   ]
  },
  {
   "cell_type": "code",
   "execution_count": 12,
   "metadata": {},
   "outputs": [
    {
     "data": {
      "text/plain": [
       "Text(0, 0.5, 'delta v')"
      ]
     },
     "execution_count": 12,
     "metadata": {},
     "output_type": "execute_result"
    },
    {
     "data": {
      "image/png": "[encoded data removed]",
      "text/plain": [
       "<Figure size 432x288 with 1 Axes>"
      ]
     },
     "metadata": {
      "needs_background": "light"
     },
     "output_type": "display_data"
    }
   ],
   "source": [
    "delta_x = delta_x[:9]\n",
    "delta_v = delta_v[:9]\n",
    "\n",
    "plt.grid()\n",
    "plt.title(\"Linear Fit\")\n",
    "plt.plot(delta_x, delta_v, 'o')\n",
    "plt.xlabel(\"delta x\")\n",
    "plt.ylabel(\"delta v\")"
   ]
  },
  {
   "cell_type": "code",
   "execution_count": 13,
   "metadata": {},
   "outputs": [],
   "source": [
    "from scipy.optimize import curve_fit\n",
    "\n",
    "def linear(x, A, B):\n",
    "    return A*x + B\n",
    "\n",
    "popt, pcov = curve_fit(linear, delta_x, delta_v)"
   ]
  },
  {
   "cell_type": "code",
   "execution_count": 14,
   "metadata": {},
   "outputs": [
    {
     "data": {
      "text/plain": [
       "Text(0, 0.5, 'delta v')"
      ]
     },
     "execution_count": 14,
     "metadata": {},
     "output_type": "execute_result"
    },
    {
     "data": {
      "image/png": "[encoded data removed]",
      "text/plain": [
       "<Figure size 432x288 with 1 Axes>"
      ]
     },
     "metadata": {
      "needs_background": "light"
     },
     "output_type": "display_data"
    }
   ],
   "source": [
    "X = np.linspace(5, 95, 100)\n",
    "Y = linear(X, popt[0], popt[1])\n",
    "\n",
    "plt.grid()\n",
    "plt.title(\"Linear Fit\")\n",
    "plt.plot(delta_x, delta_v, 'o')\n",
    "plt.plot(X, Y, 'r-')\n",
    "plt.xlabel(\"delta x\")\n",
    "plt.ylabel(\"delta v\")"
   ]
  },
  {
   "cell_type": "code",
   "execution_count": 15,
   "metadata": {},
   "outputs": [
    {
     "data": {
      "text/plain": [
       "-0.0014773293662370408"
      ]
     },
     "execution_count": 15,
     "metadata": {},
     "output_type": "execute_result"
    }
   ],
   "source": [
    "popt[0]"
   ]
  },
  {
   "cell_type": "code",
   "execution_count": null,
   "metadata": {},
   "outputs": [],
   "source": []
  },
  {
   "cell_type": "code",
   "execution_count": null,
   "metadata": {},
   "outputs": [],
   "source": []
  }
 ],
 "metadata": {
  "kernelspec": {
   "display_name": "Python 3",
   "language": "python",
   "name": "python3"
  },
  "language_info": {
   "codemirror_mode": {
    "name": "ipython",
    "version": 3
   },
   "file_extension": ".py",
   "mimetype": "text/x-python",
   "name": "python",
   "nbconvert_exporter": "python",
   "pygments_lexer": "ipython3",
   "version": "3.9.7"
  },
  "orig_nbformat": 4
 },
 "nbformat": 4,
 "nbformat_minor": 2
}
